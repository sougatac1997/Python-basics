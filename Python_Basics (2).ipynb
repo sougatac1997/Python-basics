{
  "nbformat": 4,
  "nbformat_minor": 0,
  "metadata": {
    "colab": {
      "provenance": []
    },
    "kernelspec": {
      "name": "python3",
      "display_name": "Python 3"
    },
    "language_info": {
      "name": "python"
    }
  },
  "cells": [
    {
      "cell_type": "markdown",
      "source": [
        "#Theory\n",
        "\n",
        "1.What is Python, and why is it popular? --> Python is a high-level, easy-to-learn programming language known for its readability and versatility. It is popular because it’s beginner-friendly, supports various domains (like web development, data science, and AI), has a large ecosystem of libraries, and is cross-platform compatible. Its simplicity and strong community support also make it a go-to language for many developers.\n",
        "\n",
        "2.What is an interpreter in Python? --> An interpreter in Python is a program that reads and executes Python code line by line. It translates the high-level Python code into machine code that the computer can understand, allowing the program to run without the need for prior compilation.\n",
        "\n",
        "3.What are pre-defined keywords in Python?\n",
        "-->  Pre-defined keywords in Python are reserved words that have special meanings and cannot be used as variable names. Examples include if, else, for, while, and def.\n",
        "\n",
        "\n",
        "3.Can keywords be used as variable names?\n",
        "-->  No, keywords cannot be used as variable names because they are reserved for specific functions in Python.\n",
        "\n",
        "\n",
        "4.What is mutability in Python?\n",
        "-->  Mutability refers to whether an object’s value can be changed after it is created. Mutable objects can be modified, while immutable objects cannot.\n",
        "\n",
        "\n",
        "5.Why are lists mutable, but tuples are immutable?\n",
        "-->  Lists are mutable because they are designed to allow changes like adding or removing elements. Tuples are immutable because they are intended to remain constant after creation for safety and performance reasons.\n",
        "\n",
        "\n",
        "6.What is the difference between \"==\" and \"is\" operators in Python?\n",
        "-->  The == operator checks if the values of two objects are equal, while the is operator checks if two objects refer to the same memory location (i.e., are the same object).\n",
        "\n",
        "\n",
        "7.What are logical operators in Python?\n",
        "-->  Logical operators in Python include and, or, and not, used to combine or negate boolean expressions.\n",
        "\n",
        "\n",
        "8.What is type casting in Python?\n",
        "-->  Type casting in Python refers to converting a value from one data type to another, such as converting a float to an integer using the int() function.\n",
        "\n",
        "\n",
        "9.What is the difference between implicit and explicit type casting?\n",
        "-->  Implicit type casting is automatically handled by Python (e.g., converting an integer to a float), while explicit type casting requires the programmer to manually convert types using functions like int() or float().\n",
        "\n",
        "\n",
        "10.What is the purpose of conditional statements in Python?\n",
        "-->  Conditional statements (if, elif, else) are used to make decisions in a program, allowing code to execute based on certain conditions being true.\n",
        "\n",
        "\n",
        "11.How does the elif statement work?\n",
        "-->  The elif (else if) statement allows you to check multiple conditions. It is evaluated only if the preceding if condition is false.\n",
        "\n",
        "\n",
        "12.What is the difference between for and while loops?\n",
        "-->  A for loop iterates over a sequence or range of values, while a while loop runs as long as a specified condition remains true.\n",
        "\n",
        "\n",
        "13.Describe a scenario where a while loop is more suitable than a for loop.\n",
        "-->  A while loop is more suitable when the number of iterations is not known in advance, such as when reading user input until a specific value is entered.\n",
        "\n"
      ],
      "metadata": {
        "id": "7E76b17C5BxQ"
      }
    },
    {
      "cell_type": "markdown",
      "source": [
        "#Practical\n",
        "\n",
        "1.Write a Python program to print \"Hello, World!\""
      ],
      "metadata": {
        "id": "0SNjtG03gqZP"
      }
    },
    {
      "cell_type": "code",
      "source": [
        "print(\"Hello, World!\")"
      ],
      "metadata": {
        "colab": {
          "base_uri": "https://localhost:8080/"
        },
        "id": "zbvewIAHg0q0",
        "outputId": "c5c23d49-5b17-48f7-c680-a0944dffc79b"
      },
      "execution_count": 16,
      "outputs": [
        {
          "output_type": "stream",
          "name": "stdout",
          "text": [
            "Hello, World!\n"
          ]
        }
      ]
    },
    {
      "cell_type": "markdown",
      "source": [
        "2.Write a Python program that displays your name and age"
      ],
      "metadata": {
        "id": "0i7oYjGeg6d6"
      }
    },
    {
      "cell_type": "code",
      "source": [
        "name = \"Sougata\"\n",
        "age = 27\n",
        "print(\"Name:\", name)\n",
        "print(\"Age:\", age)"
      ],
      "metadata": {
        "colab": {
          "base_uri": "https://localhost:8080/"
        },
        "id": "KpSPX_AShBHr",
        "outputId": "229835fb-3556-4418-d913-72bdff1ca39b"
      },
      "execution_count": 2,
      "outputs": [
        {
          "output_type": "stream",
          "name": "stdout",
          "text": [
            "Name: Sougata\n",
            "Age: 27\n"
          ]
        }
      ]
    },
    {
      "cell_type": "markdown",
      "source": [
        "3.Write code to print all the pre-defined keywords in Python using the keyword library\n"
      ],
      "metadata": {
        "id": "niG4g3_PhK55"
      }
    },
    {
      "cell_type": "code",
      "source": [
        "import keyword\n",
        "print(keyword.kwlist)"
      ],
      "metadata": {
        "colab": {
          "base_uri": "https://localhost:8080/"
        },
        "id": "zsdy5sbwhTQF",
        "outputId": "d367e39f-5cd6-447f-c24d-e91685d080be"
      },
      "execution_count": 3,
      "outputs": [
        {
          "output_type": "stream",
          "name": "stdout",
          "text": [
            "['False', 'None', 'True', 'and', 'as', 'assert', 'async', 'await', 'break', 'class', 'continue', 'def', 'del', 'elif', 'else', 'except', 'finally', 'for', 'from', 'global', 'if', 'import', 'in', 'is', 'lambda', 'nonlocal', 'not', 'or', 'pass', 'raise', 'return', 'try', 'while', 'with', 'yield']\n"
          ]
        }
      ]
    },
    {
      "cell_type": "markdown",
      "source": [
        "4.Write a program that checks if a given word is a Python keyword"
      ],
      "metadata": {
        "id": "cI8nfre7hbJw"
      }
    },
    {
      "cell_type": "code",
      "source": [
        "import keyword\n",
        "word = input(\"Enter a word: \")\n",
        "if keyword.iskeyword(word):\n",
        "    print(f\"{word} is a Python keyword.\")\n",
        "else:\n",
        "    print(f\"{word} is not a Python keyword.\")"
      ],
      "metadata": {
        "colab": {
          "base_uri": "https://localhost:8080/"
        },
        "id": "3mhYLAhVhgcl",
        "outputId": "aea1bcd4-6760-46bd-ddac-cfb76451b2d4"
      },
      "execution_count": 4,
      "outputs": [
        {
          "output_type": "stream",
          "name": "stdout",
          "text": [
            "Enter a word: print\n",
            "print is not a Python keyword.\n"
          ]
        }
      ]
    },
    {
      "cell_type": "markdown",
      "source": [
        "5.Create a list and tuple in Python, and demonstrate how attempting to change an element works differently for each"
      ],
      "metadata": {
        "id": "efmqG7GOhrsz"
      }
    },
    {
      "cell_type": "code",
      "source": [
        "my_list = [1, 2, 3]\n",
        "my_tuple = (1, 2, 3)\n",
        "\n",
        "# Changing a list element (works)\n",
        "my_list[0] = 10\n",
        "print(\"List after change:\", my_list)\n",
        "\n",
        "# Changing a tuple element (will raise an error)\n",
        "try:\n",
        "    my_tuple[0] = 10\n",
        "except TypeError as e:\n",
        "    print(\"Error changing tuple:\", e)"
      ],
      "metadata": {
        "colab": {
          "base_uri": "https://localhost:8080/"
        },
        "id": "TBjR3rwUhww1",
        "outputId": "8f2aceda-0c14-4637-c260-53dcc72fccea"
      },
      "execution_count": 5,
      "outputs": [
        {
          "output_type": "stream",
          "name": "stdout",
          "text": [
            "List after change: [10, 2, 3]\n",
            "Error changing tuple: 'tuple' object does not support item assignment\n"
          ]
        }
      ]
    },
    {
      "cell_type": "markdown",
      "source": [
        "6.Write a function to demonstrate the behavior of mutable and immutable arguments"
      ],
      "metadata": {
        "id": "qIruyedWh6gd"
      }
    },
    {
      "cell_type": "code",
      "source": [
        "def demo_mutability(mutable, immutable):\n",
        "    mutable.append(4)  # This will modify the list (mutable)\n",
        "    immutable += \" World\"  # This will create a new string (immutable)\n",
        "    print(\"Mutable after change:\", mutable)\n",
        "    print(\"Immutable after change:\", immutable)\n",
        "\n",
        "mutable_arg = [1, 2, 3]\n",
        "immutable_arg = \"Hello\"\n",
        "demo_mutability(mutable_arg, immutable_arg)"
      ],
      "metadata": {
        "colab": {
          "base_uri": "https://localhost:8080/"
        },
        "id": "_efficwgiAf9",
        "outputId": "238a0727-9537-43b0-ad87-240c83b46df7"
      },
      "execution_count": 6,
      "outputs": [
        {
          "output_type": "stream",
          "name": "stdout",
          "text": [
            "Mutable after change: [1, 2, 3, 4]\n",
            "Immutable after change: Hello World\n"
          ]
        }
      ]
    },
    {
      "cell_type": "markdown",
      "source": [
        "7.Write a program to demonstrate the use of logical operators"
      ],
      "metadata": {
        "id": "ta_QEvkhkurC"
      }
    },
    {
      "cell_type": "code",
      "source": [
        "x = True\n",
        "y = False\n",
        "print(\"x and y:\", x and y)\n",
        "print(\"x or y:\", x or y)\n",
        "print(\"not x:\", not x)"
      ],
      "metadata": {
        "colab": {
          "base_uri": "https://localhost:8080/"
        },
        "id": "f0vjErKnk_s6",
        "outputId": "48277a3f-ff48-475a-a09d-a5c36960db89"
      },
      "execution_count": 7,
      "outputs": [
        {
          "output_type": "stream",
          "name": "stdout",
          "text": [
            "x and y: False\n",
            "x or y: True\n",
            "not x: False\n"
          ]
        }
      ]
    },
    {
      "cell_type": "markdown",
      "source": [
        "8.Write a Python program to convert user input from string to integer, float, and boolean types"
      ],
      "metadata": {
        "id": "QwNyY27slG9X"
      }
    },
    {
      "cell_type": "code",
      "source": [
        "user_input = input(\"Enter a value: \")\n",
        "\n",
        "# Convert to integer\n",
        "int_value = int(user_input)\n",
        "print(f\"Integer value: {int_value}\")\n",
        "\n",
        "# Convert to float\n",
        "float_value = float(user_input)\n",
        "print(f\"Float value: {float_value}\")\n",
        "\n",
        "# Convert to boolean\n",
        "bool_value = bool(user_input)\n",
        "print(f\"Boolean value: {bool_value}\")"
      ],
      "metadata": {
        "colab": {
          "base_uri": "https://localhost:8080/"
        },
        "id": "7EwtXcO_lMCz",
        "outputId": "f7296245-8500-4ec1-9226-f1427b454ed5"
      },
      "execution_count": 8,
      "outputs": [
        {
          "output_type": "stream",
          "name": "stdout",
          "text": [
            "Enter a value: 56\n",
            "Integer value: 56\n",
            "Float value: 56.0\n",
            "Boolean value: True\n"
          ]
        }
      ]
    },
    {
      "cell_type": "markdown",
      "source": [
        "9.Write code to demonstrate type casting with list elements"
      ],
      "metadata": {
        "id": "eVMFMrRxlTeS"
      }
    },
    {
      "cell_type": "code",
      "source": [
        "my_list = [1, 2.5, \"3\"]\n",
        "\n",
        "# Type casting elements in the list\n",
        "my_list[0] = float(my_list[0])  # Converting integer to float\n",
        "my_list[2] = int(float(my_list[2]))  # Converting string to integer\n",
        "\n",
        "print(\"Updated list:\", my_list)"
      ],
      "metadata": {
        "id": "-2jM9c_clY1y"
      },
      "execution_count": null,
      "outputs": []
    },
    {
      "cell_type": "markdown",
      "source": [
        "10.Write a program that checks if a number is positive, negative, or zero"
      ],
      "metadata": {
        "id": "o9Na6bQtlinj"
      }
    },
    {
      "cell_type": "code",
      "source": [
        "number = float(input(\"Enter a number: \"))\n",
        "\n",
        "if number > 0:\n",
        "    print(\"The number is positive.\")\n",
        "elif number < 0:\n",
        "    print(\"The number is negative.\")\n",
        "else:\n",
        "    print(\"The number is zero.\")"
      ],
      "metadata": {
        "id": "OQxUdb1plq9a",
        "outputId": "c906061a-0080-4055-e6e5-5150fc1d7a18",
        "colab": {
          "base_uri": "https://localhost:8080/"
        }
      },
      "execution_count": 10,
      "outputs": [
        {
          "output_type": "stream",
          "name": "stdout",
          "text": [
            "Enter a number: -13\n",
            "The number is negative.\n"
          ]
        }
      ]
    },
    {
      "cell_type": "markdown",
      "source": [
        "11.Write a for loop to print numbers from 1 to 100"
      ],
      "metadata": {
        "id": "PF7O-fNdlxZZ"
      }
    },
    {
      "cell_type": "code",
      "source": [
        "for i in range(1, 101):\n",
        "    print(i)"
      ],
      "metadata": {
        "collapsed": true,
        "id": "mbuv_wVwl1Z5",
        "outputId": "4b6e5a60-4d4c-4cbe-fc8f-2bd69581826a",
        "colab": {
          "base_uri": "https://localhost:8080/"
        }
      },
      "execution_count": 11,
      "outputs": [
        {
          "output_type": "stream",
          "name": "stdout",
          "text": [
            "1\n",
            "2\n",
            "3\n",
            "4\n",
            "5\n",
            "6\n",
            "7\n",
            "8\n",
            "9\n",
            "10\n",
            "11\n",
            "12\n",
            "13\n",
            "14\n",
            "15\n",
            "16\n",
            "17\n",
            "18\n",
            "19\n",
            "20\n",
            "21\n",
            "22\n",
            "23\n",
            "24\n",
            "25\n",
            "26\n",
            "27\n",
            "28\n",
            "29\n",
            "30\n",
            "31\n",
            "32\n",
            "33\n",
            "34\n",
            "35\n",
            "36\n",
            "37\n",
            "38\n",
            "39\n",
            "40\n",
            "41\n",
            "42\n",
            "43\n",
            "44\n",
            "45\n",
            "46\n",
            "47\n",
            "48\n",
            "49\n",
            "50\n",
            "51\n",
            "52\n",
            "53\n",
            "54\n",
            "55\n",
            "56\n",
            "57\n",
            "58\n",
            "59\n",
            "60\n",
            "61\n",
            "62\n",
            "63\n",
            "64\n",
            "65\n",
            "66\n",
            "67\n",
            "68\n",
            "69\n",
            "70\n",
            "71\n",
            "72\n",
            "73\n",
            "74\n",
            "75\n",
            "76\n",
            "77\n",
            "78\n",
            "79\n",
            "80\n",
            "81\n",
            "82\n",
            "83\n",
            "84\n",
            "85\n",
            "86\n",
            "87\n",
            "88\n",
            "89\n",
            "90\n",
            "91\n",
            "92\n",
            "93\n",
            "94\n",
            "95\n",
            "96\n",
            "97\n",
            "98\n",
            "99\n",
            "100\n"
          ]
        }
      ]
    },
    {
      "cell_type": "markdown",
      "source": [
        "12.Write a Python program to find the sum of all even numbers between 1 and 500"
      ],
      "metadata": {
        "id": "z-E7NNzql9cI"
      }
    },
    {
      "cell_type": "code",
      "source": [
        "sum_even = 0\n",
        "for i in range(2, 501, 2):\n",
        "    sum_even += i\n",
        "print(\"Sum of all even numbers between 1 and 500:\", sum_even)"
      ],
      "metadata": {
        "id": "hEOmxbkLmD6z",
        "outputId": "7c8fc7f3-fff7-4fe8-ae95-4e9aa0780c3f",
        "colab": {
          "base_uri": "https://localhost:8080/"
        }
      },
      "execution_count": 12,
      "outputs": [
        {
          "output_type": "stream",
          "name": "stdout",
          "text": [
            "Sum of all even numbers between 1 and 500: 62750\n"
          ]
        }
      ]
    },
    {
      "cell_type": "markdown",
      "source": [
        "13.Write a program to reverse a string using a while loop\n"
      ],
      "metadata": {
        "id": "uOMjCDXTmI-l"
      }
    },
    {
      "cell_type": "code",
      "source": [
        "string = input(\"Enter a string: \")\n",
        "reversed_string = \"\"\n",
        "index = len(string) - 1\n",
        "\n",
        "while index >= 0:\n",
        "    reversed_string += string[index]\n",
        "    index -= 1\n",
        "\n",
        "print(\"Reversed string:\", reversed_string)"
      ],
      "metadata": {
        "id": "y1ej0vpamOo1",
        "outputId": "ff222ea0-cd26-4662-ab70-9e01f34a4e94",
        "colab": {
          "base_uri": "https://localhost:8080/"
        }
      },
      "execution_count": 14,
      "outputs": [
        {
          "output_type": "stream",
          "name": "stdout",
          "text": [
            "Enter a string: Sougata\n",
            "Reversed string: ataguoS\n"
          ]
        }
      ]
    },
    {
      "cell_type": "markdown",
      "source": [
        "14.Write a Python program to calculate the factorial of a number provided by the user using a while loop"
      ],
      "metadata": {
        "id": "kK6lmaGMmZ25"
      }
    },
    {
      "cell_type": "code",
      "source": [
        "number = int(input(\"Enter a number: \"))\n",
        "factorial = 1\n",
        "while number > 0:\n",
        "    factorial *= number\n",
        "    number -= 1\n",
        "\n",
        "print(\"Factorial:\", factorial)"
      ],
      "metadata": {
        "id": "bFcWxICNmn-W",
        "outputId": "ffda0068-ce8d-41e1-b749-5ea949a3d411",
        "colab": {
          "base_uri": "https://localhost:8080/"
        }
      },
      "execution_count": 15,
      "outputs": [
        {
          "output_type": "stream",
          "name": "stdout",
          "text": [
            "Enter a number: 5\n",
            "Factorial: 120\n"
          ]
        }
      ]
    }
  ]
}