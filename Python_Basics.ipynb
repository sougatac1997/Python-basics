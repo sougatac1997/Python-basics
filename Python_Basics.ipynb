{
  "nbformat": 4,
  "nbformat_minor": 0,
  "metadata": {
    "colab": {
      "provenance": []
    },
    "kernelspec": {
      "name": "python3",
      "display_name": "Python 3"
    },
    "language_info": {
      "name": "python"
    }
  },
  "cells": [
    {
      "cell_type": "code",
      "execution_count": null,
      "metadata": {
        "id": "aiBVlVVD4mnR"
      },
      "outputs": [],
      "source": []
    },
    {
      "cell_type": "markdown",
      "source": [
        "\n",
        "1.What is Python, and why is it popular? --> Python is a high-level, easy-to-learn programming language known for its readability and versatility. It is popular because it’s beginner-friendly, supports various domains (like web development, data science, and AI), has a large ecosystem of libraries, and is cross-platform compatible. Its simplicity and strong community support also make it a go-to language for many developers.\n",
        "\n",
        "2.What is an interpreter in Python? --> An interpreter in Python is a program that reads and executes Python code line by line. It translates the high-level Python code into machine code that the computer can understand, allowing the program to run without the need for prior compilation.\n",
        "\n",
        "3.What are pre-defined keywords in Python?\n",
        "-->  Pre-defined keywords in Python are reserved words that have special meanings and cannot be used as variable names. Examples include if, else, for, while, and def.\n",
        "\n",
        "\n",
        "3.Can keywords be used as variable names?\n",
        "-->  No, keywords cannot be used as variable names because they are reserved for specific functions in Python.\n",
        "\n",
        "\n",
        "4.What is mutability in Python?\n",
        "-->  Mutability refers to whether an object’s value can be changed after it is created. Mutable objects can be modified, while immutable objects cannot.\n",
        "\n",
        "\n",
        "5.Why are lists mutable, but tuples are immutable?\n",
        "-->  Lists are mutable because they are designed to allow changes like adding or removing elements. Tuples are immutable because they are intended to remain constant after creation for safety and performance reasons.\n",
        "\n",
        "\n",
        "6.What is the difference between \"==\" and \"is\" operators in Python?\n",
        "-->  The == operator checks if the values of two objects are equal, while the is operator checks if two objects refer to the same memory location (i.e., are the same object).\n",
        "\n",
        "\n",
        "7.What are logical operators in Python?\n",
        "-->  Logical operators in Python include and, or, and not, used to combine or negate boolean expressions.\n",
        "\n",
        "\n",
        "8.What is type casting in Python?\n",
        "-->  Type casting in Python refers to converting a value from one data type to another, such as converting a float to an integer using the int() function.\n",
        "\n",
        "\n",
        "9.What is the difference between implicit and explicit type casting?\n",
        "-->  Implicit type casting is automatically handled by Python (e.g., converting an integer to a float), while explicit type casting requires the programmer to manually convert types using functions like int() or float().\n",
        "\n",
        "\n",
        "10.What is the purpose of conditional statements in Python?\n",
        "-->  Conditional statements (if, elif, else) are used to make decisions in a program, allowing code to execute based on certain conditions being true.\n",
        "\n",
        "\n",
        "11.How does the elif statement work?\n",
        "-->  The elif (else if) statement allows you to check multiple conditions. It is evaluated only if the preceding if condition is false.\n",
        "\n",
        "\n",
        "12.What is the difference between for and while loops?\n",
        "-->  A for loop iterates over a sequence or range of values, while a while loop runs as long as a specified condition remains true.\n",
        "\n",
        "\n",
        "13.Describe a scenario where a while loop is more suitable than a for loop.\n",
        "-->  A while loop is more suitable when the number of iterations is not known in advance, such as when reading user input until a specific value is entered.\n",
        "\n"
      ],
      "metadata": {
        "id": "7E76b17C5BxQ"
      }
    }
  ]
}